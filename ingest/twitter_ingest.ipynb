{
 "cells": [
  {
   "cell_type": "code",
   "execution_count": 5,
   "id": "4b204e12-2eae-4b09-933c-567f2a86b3fb",
   "metadata": {},
   "outputs": [],
   "source": [
    "import tweepy"
   ]
  },
  {
   "cell_type": "code",
   "execution_count": 2,
   "id": "d9e4a139-cccb-401a-86b3-dc4d78615c18",
   "metadata": {},
   "outputs": [],
   "source": [
    "bearer_token = \"AAAAAAAAAAAAAAAAAAAAABtNcAEAAAAA1JW%2FL0O4v0BAn87kE8tp0vCCXYc%3Db8OQFJeRCn3tICEvi6TNC1gS6aMPvvB8ZM18ZyyI8bKytuZaba\""
   ]
  },
  {
   "cell_type": "code",
   "execution_count": 3,
   "id": "39ccf423-72db-4162-ac73-24621df4d8b5",
   "metadata": {},
   "outputs": [],
   "source": [
    "class TwitterIngest(tweepy.StreamingClient):\n",
    "    def on_tweet(self, tweet):\n",
    "        print(tweet)"
   ]
  },
  {
   "cell_type": "code",
   "execution_count": 4,
   "id": "a2879d88-15fb-4c95-89a9-07d691739927",
   "metadata": {},
   "outputs": [
    {
     "data": {
      "text/plain": [
       "Response(data=None, includes={}, errors=[{'value': 'ukraine', 'id': '1520576950833659904', 'title': 'DuplicateRule', 'type': 'https://api.twitter.com/2/problems/duplicate-rules'}], meta={'sent': '2022-05-01T19:17:00.954Z', 'summary': {'created': 0, 'not_created': 1, 'valid': 0, 'invalid': 1}})"
      ]
     },
     "execution_count": 4,
     "metadata": {},
     "output_type": "execute_result"
    }
   ],
   "source": [
    "stream = TwitterIngest(bearer_token)\n",
    "stream.add_rules(tweepy.StreamRule(\"ukraine\"))"
   ]
  },
  {
   "cell_type": "code",
   "execution_count": 34,
   "id": "78bdd4a1-516d-48ee-b64d-f1412966ce58",
   "metadata": {},
   "outputs": [
    {
     "name": "stderr",
     "output_type": "stream",
     "text": [
      "Stream encountered an exception\n",
      "Traceback (most recent call last):\n",
      "  File \"/home/jklasa/anaconda3/envs/heartbeat/lib/python3.9/site-packages/tweepy/streaming.py\", line 91, in _connect\n",
      "    self.on_data(line)\n",
      "  File \"/home/jklasa/anaconda3/envs/heartbeat/lib/python3.9/site-packages/tweepy/streaming.py\", line 870, in on_data\n",
      "    self.on_tweet(tweet)\n",
      "  File \"/tmp/ipykernel_966/904131402.py\", line 3, in on_tweet\n",
      "    print(tweet._fields)\n",
      "  File \"/home/jklasa/anaconda3/envs/heartbeat/lib/python3.9/site-packages/tweepy/mixins.py\", line 35, in __getattr__\n",
      "    raise AttributeError from None\n",
      "AttributeError\n"
     ]
    }
   ],
   "source": [
    "stream.sample()"
   ]
  },
  {
   "cell_type": "code",
   "execution_count": 8,
   "id": "682f697a-b9e1-456b-8b98-b651e28a90b1",
   "metadata": {},
   "outputs": [],
   "source": [
    "from transformers import AutoModelForSequenceClassification\n",
    "from transformers import AutoTokenizer, AutoConfig\n",
    "import numpy as np\n",
    "from scipy.special import softmax"
   ]
  },
  {
   "cell_type": "code",
   "execution_count": 6,
   "id": "c800a41c-bbff-4b1e-91ab-5df5325269a0",
   "metadata": {},
   "outputs": [],
   "source": [
    "def preprocess(text):\n",
    "    new_text = []\n",
    "    for t in text.split(\" \"):\n",
    "        t = '@user' if t.startswith('@') and len(t) > 1 else t\n",
    "        t = 'http' if t.startswith('http') else t\n",
    "        new_text.append(t)\n",
    "    return \" \".join(new_text)"
   ]
  },
  {
   "cell_type": "code",
   "execution_count": null,
   "id": "2f5773eb-cb8a-4628-b16b-15c94b81c86b",
   "metadata": {},
   "outputs": [],
   "source": []
  },
  {
   "cell_type": "code",
   "execution_count": 9,
   "id": "c21152ef-0b71-4459-95a4-414c2b2e2be5",
   "metadata": {},
   "outputs": [
    {
     "data": {
      "application/vnd.jupyter.widget-view+json": {
       "model_id": "34cd943567544aec9cca3c63fbfe87a6",
       "version_major": 2,
       "version_minor": 0
      },
      "text/plain": [
       "Downloading:   0%|          | 0.00/929 [00:00<?, ?B/s]"
      ]
     },
     "metadata": {},
     "output_type": "display_data"
    },
    {
     "data": {
      "application/vnd.jupyter.widget-view+json": {
       "model_id": "3e64380d82974bb0bb8fa7b68bf0220f",
       "version_major": 2,
       "version_minor": 0
      },
      "text/plain": [
       "Downloading:   0%|          | 0.00/878k [00:00<?, ?B/s]"
      ]
     },
     "metadata": {},
     "output_type": "display_data"
    },
    {
     "data": {
      "application/vnd.jupyter.widget-view+json": {
       "model_id": "7ba0b243b7ed43eab5ea537063ae313e",
       "version_major": 2,
       "version_minor": 0
      },
      "text/plain": [
       "Downloading:   0%|          | 0.00/446k [00:00<?, ?B/s]"
      ]
     },
     "metadata": {},
     "output_type": "display_data"
    },
    {
     "data": {
      "application/vnd.jupyter.widget-view+json": {
       "model_id": "f95e7774bd014f299a4feb7548213f02",
       "version_major": 2,
       "version_minor": 0
      },
      "text/plain": [
       "Downloading:   0%|          | 0.00/239 [00:00<?, ?B/s]"
      ]
     },
     "metadata": {},
     "output_type": "display_data"
    },
    {
     "data": {
      "application/vnd.jupyter.widget-view+json": {
       "model_id": "e47c89b21b2c4a9e9bf241a7e6cd6498",
       "version_major": 2,
       "version_minor": 0
      },
      "text/plain": [
       "Downloading:   0%|          | 0.00/478M [00:00<?, ?B/s]"
      ]
     },
     "metadata": {},
     "output_type": "display_data"
    },
    {
     "name": "stderr",
     "output_type": "stream",
     "text": [
      "Some weights of the model checkpoint at cardiffnlp/twitter-roberta-base-sentiment-latest were not used when initializing RobertaForSequenceClassification: ['roberta.pooler.dense.weight', 'roberta.pooler.dense.bias']\n",
      "- This IS expected if you are initializing RobertaForSequenceClassification from the checkpoint of a model trained on another task or with another architecture (e.g. initializing a BertForSequenceClassification model from a BertForPreTraining model).\n",
      "- This IS NOT expected if you are initializing RobertaForSequenceClassification from the checkpoint of a model that you expect to be exactly identical (initializing a BertForSequenceClassification model from a BertForSequenceClassification model).\n"
     ]
    }
   ],
   "source": [
    "MODEL = f\"cardiffnlp/twitter-roberta-base-sentiment-latest\"\n",
    "tokenizer = AutoTokenizer.from_pretrained(MODEL)\n",
    "config = AutoConfig.from_pretrained(MODEL)\n",
    "model = AutoModelForSequenceClassification.from_pretrained(MODEL)"
   ]
  },
  {
   "cell_type": "code",
   "execution_count": 10,
   "id": "2d2031ae-c6b4-40ed-a6f5-be0a3a709e2b",
   "metadata": {},
   "outputs": [],
   "source": [
    "text = \"Covid cases are increasing fast!\"\n",
    "text = preprocess(text)\n",
    "encoded_input = tokenizer(text, return_tensors='pt')\n",
    "output = model(**encoded_input)\n",
    "scores = output[0][0].detach().numpy()\n",
    "scores = softmax(scores)"
   ]
  },
  {
   "cell_type": "code",
   "execution_count": 11,
   "id": "135ca945-3300-4c63-bcd7-19d9ff0246e0",
   "metadata": {},
   "outputs": [
    {
     "name": "stdout",
     "output_type": "stream",
     "text": [
      "1) Negative 0.7236\n",
      "2) Neutral 0.2287\n",
      "3) Positive 0.0477\n"
     ]
    }
   ],
   "source": [
    "ranking = np.argsort(scores)\n",
    "ranking = ranking[::-1]\n",
    "for i in range(scores.shape[0]):\n",
    "    l = config.id2label[ranking[i]]\n",
    "    s = scores[ranking[i]]\n",
    "    print(f\"{i+1}) {l} {np.round(float(s), 4)}\")"
   ]
  },
  {
   "cell_type": "code",
   "execution_count": null,
   "id": "16ec4767-0bc0-42d7-8805-ee681ab57933",
   "metadata": {},
   "outputs": [],
   "source": []
  }
 ],
 "metadata": {
  "kernelspec": {
   "display_name": "heartbeat",
   "language": "python",
   "name": "heartbeat"
  },
  "language_info": {
   "codemirror_mode": {
    "name": "ipython",
    "version": 3
   },
   "file_extension": ".py",
   "mimetype": "text/x-python",
   "name": "python",
   "nbconvert_exporter": "python",
   "pygments_lexer": "ipython3",
   "version": "3.9.12"
  }
 },
 "nbformat": 4,
 "nbformat_minor": 5
}
