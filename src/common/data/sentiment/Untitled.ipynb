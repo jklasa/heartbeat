{
 "cells": [
  {
   "cell_type": "code",
   "execution_count": 1,
   "id": "f899ffd5-758d-40bf-b7f0-af594702cd9e",
   "metadata": {},
   "outputs": [],
   "source": [
    "from datetime import datetime"
   ]
  },
  {
   "cell_type": "code",
   "execution_count": 8,
   "id": "52c653b1-1595-4a3d-9eb5-0f3d0fa50a43",
   "metadata": {},
   "outputs": [
    {
     "data": {
      "text/plain": [
       "1652049241.400129"
      ]
     },
     "execution_count": 8,
     "metadata": {},
     "output_type": "execute_result"
    }
   ],
   "source": [
    "datetime.utcnow().timestamp()"
   ]
  },
  {
   "cell_type": "code",
   "execution_count": null,
   "id": "837d90ad-aba0-4070-85cd-a6f2473d9f5f",
   "metadata": {},
   "outputs": [],
   "source": []
  }
 ],
 "metadata": {
  "kernelspec": {
   "display_name": "Python 3 (ipykernel)",
   "language": "python",
   "name": "python3"
  },
  "language_info": {
   "codemirror_mode": {
    "name": "ipython",
    "version": 3
   },
   "file_extension": ".py",
   "mimetype": "text/x-python",
   "name": "python",
   "nbconvert_exporter": "python",
   "pygments_lexer": "ipython3",
   "version": "3.9.10"
  }
 },
 "nbformat": 4,
 "nbformat_minor": 5
}
